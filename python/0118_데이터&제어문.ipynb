{
 "cells": [
  {
   "cell_type": "markdown",
   "id": "exact-strand",
   "metadata": {},
   "source": [
    "# 코드라인"
   ]
  },
  {
   "cell_type": "code",
   "execution_count": 5,
   "id": "resident-inspection",
   "metadata": {
    "scrolled": true
   },
   "outputs": [
    {
     "ename": "SyntaxError",
     "evalue": "invalid syntax (<ipython-input-5-6c048d47ae4a>, line 1)",
     "output_type": "error",
     "traceback": [
      "\u001b[1;36m  File \u001b[1;32m\"<ipython-input-5-6c048d47ae4a>\"\u001b[1;36m, line \u001b[1;32m1\u001b[0m\n\u001b[1;33m    print('hello')print('52')\u001b[0m\n\u001b[1;37m                  ^\u001b[0m\n\u001b[1;31mSyntaxError\u001b[0m\u001b[1;31m:\u001b[0m invalid syntax\n"
     ]
    }
   ],
   "source": [
    "print('hello')print('52')\n",
    "print('hello\n",
    "52')"
   ]
  },
  {
   "cell_type": "code",
   "execution_count": 6,
   "id": "corporate-leisure",
   "metadata": {},
   "outputs": [
    {
     "name": "stdout",
     "output_type": "stream",
     "text": [
      "hello\n",
      "52\n",
      "hello52\n",
      "hello\n",
      "52\n"
     ]
    }
   ],
   "source": [
    "print('hello');print('52')\n",
    "print('hello\\\n",
    "52')\n",
    "print('''hello\n",
    "52''')"
   ]
  },
  {
   "cell_type": "markdown",
   "id": "olympic-intelligence",
   "metadata": {},
   "source": [
    "# 변수"
   ]
  },
  {
   "cell_type": "code",
   "execution_count": 8,
   "id": "narrative-manner",
   "metadata": {},
   "outputs": [
    {
     "name": "stdout",
     "output_type": "stream",
     "text": [
      "20 10\n"
     ]
    }
   ],
   "source": [
    "x, y = 10, 20\n",
    "temp = x\n",
    "x = y\n",
    "y = temp\n",
    "print(x, y)"
   ]
  },
  {
   "cell_type": "code",
   "execution_count": 9,
   "id": "finished-withdrawal",
   "metadata": {},
   "outputs": [
    {
     "name": "stdout",
     "output_type": "stream",
     "text": [
      "20 10\n"
     ]
    }
   ],
   "source": [
    "x, y = 10, 20\n",
    "x, y = y, x\n",
    "print(x, y)"
   ]
  },
  {
   "cell_type": "markdown",
   "id": "normal-oklahoma",
   "metadata": {},
   "source": [
    "# 식별자"
   ]
  },
  {
   "cell_type": "markdown",
   "id": "suspected-graham",
   "metadata": {},
   "source": [
    "안되는 키워드"
   ]
  },
  {
   "cell_type": "markdown",
   "id": "adverse-default",
   "metadata": {},
   "source": [
    "False, None, True, and, as, assert, async, await, break, class, continue, def, del, elif, else, except, finally, for, from, global, if, import, in, is, lambda, nonlocal, not, or, pass, raise, return, try, while, with, yield"
   ]
  },
  {
   "cell_type": "markdown",
   "id": "mysterious-hartford",
   "metadata": {},
   "source": [
    "# 데이터 타입"
   ]
  },
  {
   "cell_type": "code",
   "execution_count": 14,
   "id": "coastal-gregory",
   "metadata": {},
   "outputs": [
    {
     "data": {
      "text/plain": [
       "True"
      ]
     },
     "execution_count": 14,
     "metadata": {},
     "output_type": "execute_result"
    }
   ],
   "source": [
    "a = 4.5\n",
    "b = 3.83\n",
    "abs((a - b) - 0.67) <= 3e-5"
   ]
  },
  {
   "cell_type": "markdown",
   "id": "dress-attachment",
   "metadata": {},
   "source": [
    "# String interpolation"
   ]
  },
  {
   "cell_type": "code",
   "execution_count": 19,
   "id": "loving-afternoon",
   "metadata": {
    "scrolled": true
   },
   "outputs": [
    {
     "name": "stdout",
     "output_type": "stream",
     "text": [
      "나는 똥개이다.\n",
      "아니다!!!!!\n",
      "나는 사실 개 짱짱이다.\n"
     ]
    }
   ],
   "source": [
    "a = '똥개'\n",
    "b = '개 짱짱'\n",
    "print('나는 {}이다.'.format(a))\n",
    "print(f'아니다!!!!!\\n나는 사실 {b}이다.')"
   ]
  },
  {
   "cell_type": "markdown",
   "id": "biological-mauritius",
   "metadata": {},
   "source": [
    "# 참 / 거짓 (Boolean) 타입"
   ]
  },
  {
   "cell_type": "markdown",
   "id": "young-statistics",
   "metadata": {},
   "source": [
    "False로 변환되는 값들"
   ]
  },
  {
   "cell_type": "markdown",
   "id": "apparent-wireless",
   "metadata": {},
   "source": [
    "0, 0.0, (), [], {}, '', None"
   ]
  },
  {
   "cell_type": "markdown",
   "id": "accurate-original",
   "metadata": {},
   "source": [
    "# 형변환\n",
    "\n",
    "1. 암시적 형변환\n",
    "\n",
    "int + bool \n",
    "\n",
    "int + float + complex \n",
    "\n",
    "싹 다 가능"
   ]
  },
  {
   "cell_type": "code",
   "execution_count": 22,
   "id": "canadian-glance",
   "metadata": {
    "scrolled": true
   },
   "outputs": [
    {
     "data": {
      "text/plain": [
       "6"
      ]
     },
     "execution_count": 22,
     "metadata": {},
     "output_type": "execute_result"
    }
   ],
   "source": [
    "False + 6"
   ]
  },
  {
   "cell_type": "markdown",
   "id": "coordinated-savannah",
   "metadata": {},
   "source": [
    "2. 명시적 형변환\n",
    "\n",
    "위 경우 빼고 싹 다"
   ]
  },
  {
   "cell_type": "code",
   "execution_count": 25,
   "id": "connected-integer",
   "metadata": {},
   "outputs": [
    {
     "ename": "ValueError",
     "evalue": "invalid literal for int() with base 10: '3.141592'",
     "output_type": "error",
     "traceback": [
      "\u001b[1;31m---------------------------------------------------------------------------\u001b[0m",
      "\u001b[1;31mValueError\u001b[0m                                Traceback (most recent call last)",
      "\u001b[1;32m<ipython-input-25-001c92d689a9>\u001b[0m in \u001b[0;36m<module>\u001b[1;34m\u001b[0m\n\u001b[0;32m      1\u001b[0m \u001b[0ma\u001b[0m \u001b[1;33m=\u001b[0m \u001b[1;34m'3.141592'\u001b[0m\u001b[1;33m\u001b[0m\u001b[1;33m\u001b[0m\u001b[0m\n\u001b[1;32m----> 2\u001b[1;33m \u001b[0mint\u001b[0m\u001b[1;33m(\u001b[0m\u001b[0ma\u001b[0m\u001b[1;33m)\u001b[0m \u001b[1;31m# 두 단계를 건너뛰려 하다니 양심리스!\u001b[0m\u001b[1;33m\u001b[0m\u001b[1;33m\u001b[0m\u001b[0m\n\u001b[0m",
      "\u001b[1;31mValueError\u001b[0m: invalid literal for int() with base 10: '3.141592'"
     ]
    }
   ],
   "source": [
    "a = '3.141592'\n",
    "int(a) # 두 단계를 건너뛰려 하다니 양심리스!"
   ]
  },
  {
   "cell_type": "markdown",
   "id": "dominican-registrar",
   "metadata": {},
   "source": [
    "# 연산자"
   ]
  },
  {
   "cell_type": "code",
   "execution_count": 27,
   "id": "healthy-moral",
   "metadata": {},
   "outputs": [
    {
     "name": "stdout",
     "output_type": "stream",
     "text": [
      "몫은 2, 나머지는 1\n"
     ]
    }
   ],
   "source": [
    "# 왜 때문에 맨날 까먹는 \n",
    "# divmod\n",
    "quotient, remainder = divmod(5, 2)\n",
    "print(f'몫은 {quotient}, 나머지는 {remainder}')"
   ]
  },
  {
   "cell_type": "markdown",
   "id": "rising-finder",
   "metadata": {},
   "source": [
    "# Concatenation"
   ]
  },
  {
   "cell_type": "markdown",
   "id": "latest-rouge",
   "metadata": {},
   "source": [
    "`숫자가 아닌 자료형`은 + 연산자를 통해 합칠 수 있다."
   ]
  },
  {
   "cell_type": "code",
   "execution_count": 2,
   "id": "stable-spending",
   "metadata": {},
   "outputs": [
    {
     "data": {
      "text/plain": [
       "'abcdef'"
      ]
     },
     "execution_count": 2,
     "metadata": {},
     "output_type": "execute_result"
    }
   ],
   "source": [
    "'abc' + 'def'"
   ]
  },
  {
   "cell_type": "markdown",
   "id": "fitting-adolescent",
   "metadata": {},
   "source": [
    "## 단축평가 - 모르는 거"
   ]
  },
  {
   "cell_type": "markdown",
   "id": "fewer-model",
   "metadata": {},
   "source": [
    "### and 연산자 사용시 False가 나올 때 까지만 연산\n",
    "### or 연산자 사용시 True가 나올 때 까지만 연산"
   ]
  },
  {
   "cell_type": "code",
   "execution_count": 35,
   "id": "cosmetic-oklahoma",
   "metadata": {},
   "outputs": [
    {
     "name": "stdout",
     "output_type": "stream",
     "text": [
      "b\n"
     ]
    },
    {
     "data": {
      "text/plain": [
       "False"
      ]
     },
     "execution_count": 35,
     "metadata": {},
     "output_type": "execute_result"
    }
   ],
   "source": [
    "print('a' and 'b')\n",
    "('a' and 'b') in 'aeiou'"
   ]
  },
  {
   "cell_type": "code",
   "execution_count": 36,
   "id": "after-magnitude",
   "metadata": {},
   "outputs": [
    {
     "name": "stdout",
     "output_type": "stream",
     "text": [
      "a\n"
     ]
    },
    {
     "data": {
      "text/plain": [
       "True"
      ]
     },
     "execution_count": 36,
     "metadata": {},
     "output_type": "execute_result"
    }
   ],
   "source": [
    "print('a' or 'b')\n",
    "('a' or 'b') in 'aeiou'"
   ]
  },
  {
   "cell_type": "code",
   "execution_count": 37,
   "id": "rolled-european",
   "metadata": {
    "scrolled": true
   },
   "outputs": [
    {
     "name": "stdout",
     "output_type": "stream",
     "text": [
      "5\n",
      "0\n",
      "0\n",
      "0\n"
     ]
    }
   ],
   "source": [
    "print(3 and 5) # 2번째까지\n",
    "print(3 and 0) # 2번째까지     3은 true, 0까지 확인\n",
    "print(0 and 3) # 1번째까지     0은 false => 확인 끝\n",
    "print(0 and 0) # 1번째까지"
   ]
  },
  {
   "cell_type": "code",
   "execution_count": 38,
   "id": "incorporated-recording",
   "metadata": {},
   "outputs": [
    {
     "name": "stdout",
     "output_type": "stream",
     "text": [
      "3\n",
      "3\n",
      "3\n",
      "0\n"
     ]
    }
   ],
   "source": [
    "print(3 or 5) # 1번째까지\n",
    "print(3 or 0) # 1번째까지    3은 true => 확인 끝\n",
    "print(0 or 3) # 2번째까지    0이 false, 3까지 확인\n",
    "print(0 or 0) # 2번째까지"
   ]
  },
  {
   "cell_type": "markdown",
   "id": "wicked-distance",
   "metadata": {},
   "source": [
    "## 기타 연산자 - Identity"
   ]
  },
  {
   "cell_type": "markdown",
   "id": "forty-tissue",
   "metadata": {},
   "source": [
    "파이썬에서 -5 부터 256 까지의 id는 동일\n",
    "\n",
    "편의상 자주 사용하는 문자열과 숫자의 id를 같게 해둠"
   ]
  },
  {
   "cell_type": "code",
   "execution_count": 39,
   "id": "environmental-conference",
   "metadata": {
    "scrolled": true
   },
   "outputs": [
    {
     "data": {
      "text/plain": [
       "True"
      ]
     },
     "execution_count": 39,
     "metadata": {},
     "output_type": "execute_result"
    }
   ],
   "source": [
    "a = 'hi'\n",
    "b = 'hi'\n",
    "a is b"
   ]
  },
  {
   "cell_type": "code",
   "execution_count": 40,
   "id": "empirical-ballot",
   "metadata": {},
   "outputs": [
    {
     "data": {
      "text/plain": [
       "True"
      ]
     },
     "execution_count": 40,
     "metadata": {},
     "output_type": "execute_result"
    }
   ],
   "source": [
    "a = 1\n",
    "b = 1\n",
    "a is b"
   ]
  },
  {
   "cell_type": "code",
   "execution_count": 41,
   "id": "unavailable-partner",
   "metadata": {},
   "outputs": [
    {
     "data": {
      "text/plain": [
       "False"
      ]
     },
     "execution_count": 41,
     "metadata": {},
     "output_type": "execute_result"
    }
   ],
   "source": [
    "a = 'hi!'\n",
    "b = 'hi!'\n",
    "a is b"
   ]
  },
  {
   "cell_type": "code",
   "execution_count": 42,
   "id": "respected-advertiser",
   "metadata": {},
   "outputs": [
    {
     "data": {
      "text/plain": [
       "False"
      ]
     },
     "execution_count": 42,
     "metadata": {},
     "output_type": "execute_result"
    }
   ],
   "source": [
    "a = []\n",
    "b = []\n",
    "a is b"
   ]
  },
  {
   "cell_type": "markdown",
   "id": "purple-television",
   "metadata": {},
   "source": [
    "---"
   ]
  },
  {
   "cell_type": "markdown",
   "id": "fifth-underwear",
   "metadata": {},
   "source": [
    "# 컨테이너 (스, 리, 튜, 레, 셋, 딕) "
   ]
  },
  {
   "cell_type": "markdown",
   "id": "settled-harris",
   "metadata": {},
   "source": [
    "* 시퀀스형 : 순서있음.   \n",
    "* 비 시퀀스형 : 셋, 딕셔너리\n",
    "\n",
    "\n",
    "\n",
    "* mutable : list, set, dictionary\n",
    "* immutable : string, tuple. range"
   ]
  },
  {
   "cell_type": "markdown",
   "id": "minimal-praise",
   "metadata": {},
   "source": [
    "## 리스트, 튜플"
   ]
  },
  {
   "cell_type": "code",
   "execution_count": 1,
   "id": "outer-handbook",
   "metadata": {
    "scrolled": true
   },
   "outputs": [
    {
     "name": "stdout",
     "output_type": "stream",
     "text": [
      "1\n",
      "[1, 2, 3, 4]\n"
     ]
    }
   ],
   "source": [
    "my_list = [1, 2, 3, 4]\n",
    "print(my_list[0])\n",
    "print(my_list)"
   ]
  },
  {
   "cell_type": "code",
   "execution_count": 2,
   "id": "fifteen-crest",
   "metadata": {},
   "outputs": [
    {
     "name": "stdout",
     "output_type": "stream",
     "text": [
      "[1, 100, 3, 4]\n"
     ]
    }
   ],
   "source": [
    "my_list[1] = 100\n",
    "print(my_list)"
   ]
  },
  {
   "cell_type": "code",
   "execution_count": 3,
   "id": "cooked-blair",
   "metadata": {},
   "outputs": [
    {
     "name": "stdout",
     "output_type": "stream",
     "text": [
      "1\n",
      "(1, 2, 3, 4)\n"
     ]
    }
   ],
   "source": [
    "my_tuple = (1, 2, 3, 4)\n",
    "print(my_tuple[0])\n",
    "print(my_tuple)"
   ]
  },
  {
   "cell_type": "code",
   "execution_count": 4,
   "id": "facial-centre",
   "metadata": {},
   "outputs": [
    {
     "ename": "TypeError",
     "evalue": "'tuple' object does not support item assignment",
     "output_type": "error",
     "traceback": [
      "\u001b[1;31m---------------------------------------------------------------------------\u001b[0m",
      "\u001b[1;31mTypeError\u001b[0m                                 Traceback (most recent call last)",
      "\u001b[1;32m<ipython-input-4-739c5fa4d467>\u001b[0m in \u001b[0;36m<module>\u001b[1;34m\u001b[0m\n\u001b[1;32m----> 1\u001b[1;33m \u001b[0mmy_tuple\u001b[0m\u001b[1;33m[\u001b[0m\u001b[1;36m1\u001b[0m\u001b[1;33m]\u001b[0m \u001b[1;33m=\u001b[0m \u001b[1;36m100\u001b[0m\u001b[1;33m\u001b[0m\u001b[1;33m\u001b[0m\u001b[0m\n\u001b[0m\u001b[0;32m      2\u001b[0m \u001b[0mprint\u001b[0m\u001b[1;33m(\u001b[0m\u001b[0mmy_tuple\u001b[0m\u001b[1;33m)\u001b[0m \u001b[1;31m############ 수정불가능\u001b[0m\u001b[1;33m\u001b[0m\u001b[1;33m\u001b[0m\u001b[0m\n",
      "\u001b[1;31mTypeError\u001b[0m: 'tuple' object does not support item assignment"
     ]
    }
   ],
   "source": [
    "my_tuple[1] = 100\n",
    "print(my_tuple) ############ 수정불가능"
   ]
  },
  {
   "cell_type": "markdown",
   "id": "adopted-comparison",
   "metadata": {},
   "source": [
    "## range"
   ]
  },
  {
   "cell_type": "code",
   "execution_count": 5,
   "id": "compound-society",
   "metadata": {},
   "outputs": [
    {
     "name": "stdout",
     "output_type": "stream",
     "text": [
      "[0, 1, 2] <class 'list'>\n"
     ]
    }
   ],
   "source": [
    "a = list(range(3))\n",
    "print(a, type(a))"
   ]
  },
  {
   "cell_type": "code",
   "execution_count": 6,
   "id": "frequent-tablet",
   "metadata": {
    "scrolled": true
   },
   "outputs": [
    {
     "name": "stdout",
     "output_type": "stream",
     "text": [
      "[range(0, 3)] <class 'list'>\n"
     ]
    }
   ],
   "source": [
    "b = [range(3)]\n",
    "print(b, type(b))"
   ]
  },
  {
   "cell_type": "code",
   "execution_count": 7,
   "id": "false-disposal",
   "metadata": {
    "scrolled": true
   },
   "outputs": [
    {
     "data": {
      "text/plain": [
       "[]"
      ]
     },
     "execution_count": 7,
     "metadata": {},
     "output_type": "execute_result"
    }
   ],
   "source": [
    "list(range(0, -5))"
   ]
  },
  {
   "cell_type": "code",
   "execution_count": 8,
   "id": "suspended-judge",
   "metadata": {},
   "outputs": [
    {
     "data": {
      "text/plain": [
       "[0, -2, -4]"
      ]
     },
     "execution_count": 8,
     "metadata": {},
     "output_type": "execute_result"
    }
   ],
   "source": [
    "list(range(0, -5, -2))"
   ]
  },
  {
   "cell_type": "markdown",
   "id": "occupational-county",
   "metadata": {},
   "source": [
    "## dictionary\n",
    "\n",
    "dict.keys, dict.values, dict.items는 유사 리스트"
   ]
  },
  {
   "cell_type": "code",
   "execution_count": 27,
   "id": "intense-blackberry",
   "metadata": {},
   "outputs": [],
   "source": [
    "player = {'name': '김연경', 'age': '26', 'country': '한국' }"
   ]
  },
  {
   "cell_type": "code",
   "execution_count": 29,
   "id": "magnetic-reservoir",
   "metadata": {},
   "outputs": [
    {
     "name": "stdout",
     "output_type": "stream",
     "text": [
      "['name', 'age', 'country']\n"
     ]
    }
   ],
   "source": [
    "# dict 형변환시 key만 남음 (str만 빼고)\n",
    "player_list = list(player)\n",
    "print(player_list)"
   ]
  },
  {
   "cell_type": "markdown",
   "id": "irish-religion",
   "metadata": {},
   "source": [
    "### key를 이용해서 value 얻어오기"
   ]
  },
  {
   "cell_type": "code",
   "execution_count": 14,
   "id": "offensive-housing",
   "metadata": {
    "scrolled": true
   },
   "outputs": [
    {
     "data": {
      "text/plain": [
       "'김연경'"
      ]
     },
     "execution_count": 14,
     "metadata": {},
     "output_type": "execute_result"
    }
   ],
   "source": [
    "player['name']"
   ]
  },
  {
   "cell_type": "code",
   "execution_count": 15,
   "id": "animated-franklin",
   "metadata": {},
   "outputs": [
    {
     "data": {
      "text/plain": [
       "'한국'"
      ]
     },
     "execution_count": 15,
     "metadata": {},
     "output_type": "execute_result"
    }
   ],
   "source": [
    "player.get('country')"
   ]
  },
  {
   "cell_type": "markdown",
   "id": "remarkable-playback",
   "metadata": {},
   "source": [
    "### dict.keys()"
   ]
  },
  {
   "cell_type": "code",
   "execution_count": 40,
   "id": "naughty-transparency",
   "metadata": {},
   "outputs": [
    {
     "name": "stdout",
     "output_type": "stream",
     "text": [
      "dict_keys(['name', 'age', 'country']) <class 'dict_keys'>\n"
     ]
    }
   ],
   "source": [
    "print(player.keys(), type(player.keys()))"
   ]
  },
  {
   "cell_type": "code",
   "execution_count": 41,
   "id": "polyphonic-bosnia",
   "metadata": {},
   "outputs": [
    {
     "ename": "TypeError",
     "evalue": "'dict_keys' object is not subscriptable",
     "output_type": "error",
     "traceback": [
      "\u001b[1;31m---------------------------------------------------------------------------\u001b[0m",
      "\u001b[1;31mTypeError\u001b[0m                                 Traceback (most recent call last)",
      "\u001b[1;32m<ipython-input-41-02c18ecd3b6b>\u001b[0m in \u001b[0;36m<module>\u001b[1;34m\u001b[0m\n\u001b[1;32m----> 1\u001b[1;33m \u001b[0mplayer\u001b[0m\u001b[1;33m.\u001b[0m\u001b[0mkeys\u001b[0m\u001b[1;33m(\u001b[0m\u001b[1;33m)\u001b[0m\u001b[1;33m[\u001b[0m\u001b[1;36m0\u001b[0m\u001b[1;33m]\u001b[0m\u001b[1;33m\u001b[0m\u001b[1;33m\u001b[0m\u001b[0m\n\u001b[0m",
      "\u001b[1;31mTypeError\u001b[0m: 'dict_keys' object is not subscriptable"
     ]
    }
   ],
   "source": [
    "player.keys()[0]"
   ]
  },
  {
   "cell_type": "code",
   "execution_count": 42,
   "id": "considerable-portsmouth",
   "metadata": {
    "scrolled": true
   },
   "outputs": [
    {
     "data": {
      "text/plain": [
       "'name'"
      ]
     },
     "execution_count": 42,
     "metadata": {},
     "output_type": "execute_result"
    }
   ],
   "source": [
    "player_keys = list(player.keys())\n",
    "player_keys[0]"
   ]
  },
  {
   "cell_type": "markdown",
   "id": "minor-edinburgh",
   "metadata": {},
   "source": [
    "### dict.values()"
   ]
  },
  {
   "cell_type": "code",
   "execution_count": 32,
   "id": "twenty-burning",
   "metadata": {},
   "outputs": [
    {
     "name": "stdout",
     "output_type": "stream",
     "text": [
      "dict_values(['김연경', '26', '한국']) <class 'dict_values'>\n"
     ]
    }
   ],
   "source": [
    "print(player.values(), type(player.values()))"
   ]
  },
  {
   "cell_type": "code",
   "execution_count": 43,
   "id": "funky-project",
   "metadata": {},
   "outputs": [
    {
     "ename": "TypeError",
     "evalue": "'dict_values' object is not subscriptable",
     "output_type": "error",
     "traceback": [
      "\u001b[1;31m---------------------------------------------------------------------------\u001b[0m",
      "\u001b[1;31mTypeError\u001b[0m                                 Traceback (most recent call last)",
      "\u001b[1;32m<ipython-input-43-65a51e622568>\u001b[0m in \u001b[0;36m<module>\u001b[1;34m\u001b[0m\n\u001b[1;32m----> 1\u001b[1;33m \u001b[0mplayer\u001b[0m\u001b[1;33m.\u001b[0m\u001b[0mvalues\u001b[0m\u001b[1;33m(\u001b[0m\u001b[1;33m)\u001b[0m\u001b[1;33m[\u001b[0m\u001b[1;36m0\u001b[0m\u001b[1;33m]\u001b[0m\u001b[1;33m\u001b[0m\u001b[1;33m\u001b[0m\u001b[0m\n\u001b[0m",
      "\u001b[1;31mTypeError\u001b[0m: 'dict_values' object is not subscriptable"
     ]
    }
   ],
   "source": [
    "player.values()[0]"
   ]
  },
  {
   "cell_type": "code",
   "execution_count": 36,
   "id": "foster-gateway",
   "metadata": {},
   "outputs": [
    {
     "data": {
      "text/plain": [
       "'김연경'"
      ]
     },
     "execution_count": 36,
     "metadata": {},
     "output_type": "execute_result"
    }
   ],
   "source": [
    "player_values = list(player.values())\n",
    "player_values[0]"
   ]
  },
  {
   "cell_type": "markdown",
   "id": "experienced-latvia",
   "metadata": {},
   "source": [
    "### dict.items()"
   ]
  },
  {
   "cell_type": "code",
   "execution_count": 33,
   "id": "stable-organizer",
   "metadata": {},
   "outputs": [
    {
     "name": "stdout",
     "output_type": "stream",
     "text": [
      "dict_items([('name', '김연경'), ('age', '26'), ('country', '한국')]) <class 'dict_items'>\n"
     ]
    }
   ],
   "source": [
    "print(player.items(), type(player.items()))"
   ]
  },
  {
   "cell_type": "code",
   "execution_count": 45,
   "id": "present-supply",
   "metadata": {},
   "outputs": [
    {
     "ename": "TypeError",
     "evalue": "'dict_items' object is not subscriptable",
     "output_type": "error",
     "traceback": [
      "\u001b[1;31m---------------------------------------------------------------------------\u001b[0m",
      "\u001b[1;31mTypeError\u001b[0m                                 Traceback (most recent call last)",
      "\u001b[1;32m<ipython-input-45-532ba8c5d146>\u001b[0m in \u001b[0;36m<module>\u001b[1;34m\u001b[0m\n\u001b[1;32m----> 1\u001b[1;33m \u001b[0mplayer\u001b[0m\u001b[1;33m.\u001b[0m\u001b[0mitems\u001b[0m\u001b[1;33m(\u001b[0m\u001b[1;33m)\u001b[0m\u001b[1;33m[\u001b[0m\u001b[1;36m0\u001b[0m\u001b[1;33m]\u001b[0m\u001b[1;33m\u001b[0m\u001b[1;33m\u001b[0m\u001b[0m\n\u001b[0m",
      "\u001b[1;31mTypeError\u001b[0m: 'dict_items' object is not subscriptable"
     ]
    }
   ],
   "source": [
    "player.items()[0]"
   ]
  },
  {
   "cell_type": "code",
   "execution_count": 46,
   "id": "interested-czech",
   "metadata": {
    "scrolled": true
   },
   "outputs": [
    {
     "data": {
      "text/plain": [
       "'name'"
      ]
     },
     "execution_count": 46,
     "metadata": {},
     "output_type": "execute_result"
    }
   ],
   "source": [
    "player_items = list(player.items())\n",
    "player_items[0]\n",
    "player_items[0][0]"
   ]
  },
  {
   "cell_type": "markdown",
   "id": "eastern-criticism",
   "metadata": {},
   "source": [
    "## 컨테이너형 형변환\n",
    "\n",
    "파이썬에서 컨테이너는 서로 변환할 수 있습니다.\n",
    "\n",
    "<img width=\"708\" alt=\"typecasting\" src=\"https://user-images.githubusercontent.com/18046097/61180466-a6a67780-a651-11e9-8c0a-adb9e1ee04de.png\">\n"
   ]
  },
  {
   "cell_type": "markdown",
   "id": "transsexual-circuit",
   "metadata": {},
   "source": [
    "# 데이터의 분류"
   ]
  },
  {
   "cell_type": "code",
   "execution_count": 64,
   "id": "dressed-revelation",
   "metadata": {},
   "outputs": [
    {
     "name": "stdout",
     "output_type": "stream",
     "text": [
      "20\n",
      "10\n",
      "False\n"
     ]
    }
   ],
   "source": [
    "# immutable 데이터의 복사는 어떻게 이루어질까?\n",
    "num1 = 20\n",
    "num2 = num1 \n",
    "num2 = 10\n",
    "\n",
    "print(num1)\n",
    "print(num2)\n",
    "print(num1 is num2)"
   ]
  },
  {
   "cell_type": "code",
   "execution_count": 67,
   "id": "outer-israeli",
   "metadata": {},
   "outputs": [
    {
     "name": "stdout",
     "output_type": "stream",
     "text": [
      "[100, 2, 3, 4]\n",
      "[100, 2, 3, 4]\n",
      "True\n"
     ]
    }
   ],
   "source": [
    "# mutable 데이터의 복사는 어떻게 이루어질까?\n",
    "num1 = [1, 2, 3, 4]\n",
    "num2 = num1 \n",
    "### 같은 공간을 가짐 num2 = list(num1) 으로 하면 결과 false\n",
    "num2[0] = 100\n",
    "\n",
    "print(num1)\n",
    "print(num2)\n",
    "print(num1 is num2)"
   ]
  },
  {
   "cell_type": "markdown",
   "id": "blond-natural",
   "metadata": {},
   "source": [
    "# 정리\n",
    "## 컨테이너(Container)\n",
    "<center><img src=\"https://user-images.githubusercontent.com/18046097/61180439-44e60d80-a651-11e9-9adc-e60fa57c2165.png\", alt=\"container\"/></center>"
   ]
  },
  {
   "cell_type": "markdown",
   "id": "peaceful-nebraska",
   "metadata": {},
   "source": [
    "---"
   ]
  },
  {
   "cell_type": "markdown",
   "id": "direct-haven",
   "metadata": {},
   "source": [
    "# 제어문 If / Elif / Else"
   ]
  },
  {
   "cell_type": "code",
   "execution_count": 73,
   "id": "significant-commodity",
   "metadata": {},
   "outputs": [
    {
     "name": "stdout",
     "output_type": "stream",
     "text": [
      "숫자를 넣어보너라 13\n"
     ]
    }
   ],
   "source": [
    "num = int(input('숫자를 넣어보너라 '))"
   ]
  },
  {
   "cell_type": "code",
   "execution_count": 74,
   "id": "timely-christmas",
   "metadata": {},
   "outputs": [
    {
     "name": "stdout",
     "output_type": "stream",
     "text": [
      "홀\n"
     ]
    }
   ],
   "source": [
    "if num % 2:    # 0이 false\n",
    "    print('홀')\n",
    "else:\n",
    "    print('짝')"
   ]
  },
  {
   "cell_type": "markdown",
   "id": "operational-hands",
   "metadata": {},
   "source": [
    "### [실습] 조건 표현식과 동일한 if 문 작성하기\n",
    "\n",
    "> 다음의 코드와 동일한 `if`문을 작성해보세요.\n",
    "\n",
    "```python\n",
    "num = -5\n",
    "value = num if num >= 0 else 0\n",
    "print(value)\n",
    "```\n",
    "---\n",
    "**[출력 예시]**\n",
    "\n",
    "0"
   ]
  },
  {
   "cell_type": "code",
   "execution_count": 75,
   "id": "fifteen-paradise",
   "metadata": {},
   "outputs": [
    {
     "name": "stdout",
     "output_type": "stream",
     "text": [
      "0\n"
     ]
    }
   ],
   "source": [
    "num = -5\n",
    "if num >= 0:\n",
    "    value = num\n",
    "else:\n",
    "    value = 0\n",
    "    \n",
    "print(value)"
   ]
  },
  {
   "cell_type": "markdown",
   "id": "loose-maldives",
   "metadata": {},
   "source": [
    "### [연습] while 문 작성하기\n",
    "> 사용자가 \"안녕\"이라고 입력할 때까지 인사하는 코드를 작성해보세요."
   ]
  },
  {
   "cell_type": "code",
   "execution_count": 1,
   "id": "instructional-wrist",
   "metadata": {
    "scrolled": true
   },
   "outputs": [
    {
     "name": "stdout",
     "output_type": "stream",
     "text": [
      "인사를 해보거라 안녕\n"
     ]
    }
   ],
   "source": [
    "str = input('인사를 해보거라 ')"
   ]
  },
  {
   "cell_type": "code",
   "execution_count": 2,
   "id": "miniature-burning",
   "metadata": {},
   "outputs": [],
   "source": [
    "while str != '안녕':\n",
    "    print('안녕이라 말하지마.')"
   ]
  },
  {
   "cell_type": "code",
   "execution_count": null,
   "id": "limiting-novelty",
   "metadata": {},
   "outputs": [],
   "source": [
    "user_input = ''\n",
    "while user_input != '안녕':\n",
    "    print('안녕이라고 말할 때까지 물어본다')\n",
    "    user_input = input('말해봐 : ')\n",
    "    \n",
    "print(user_input)"
   ]
  },
  {
   "cell_type": "markdown",
   "id": "hydraulic-visibility",
   "metadata": {},
   "source": [
    "### [실습] 합(Summation)\n",
    "\n",
    "> 1부터 사용자가 입력한 양의 정수까지의 총합을 구하는 코드를 작성해보세요.\n",
    "\n",
    "---\n",
    "**[입력 예시]**\n",
    "\n",
    "10\n",
    "\n",
    "**[출력 예시]**\n",
    "\n",
    "55"
   ]
  },
  {
   "cell_type": "code",
   "execution_count": 1,
   "id": "raising-trout",
   "metadata": {
    "scrolled": false
   },
   "outputs": [
    {
     "name": "stdout",
     "output_type": "stream",
     "text": [
      "원하는 숫자를 말해봐! 10\n"
     ]
    }
   ],
   "source": [
    "num = int(input('원하는 숫자를 말해봐! '))"
   ]
  },
  {
   "cell_type": "code",
   "execution_count": 3,
   "id": "optional-methodology",
   "metadata": {},
   "outputs": [
    {
     "name": "stdout",
     "output_type": "stream",
     "text": [
      "55\n"
     ]
    }
   ],
   "source": [
    "i = 0\n",
    "tot = 0\n",
    "while i <= num:\n",
    "    tot += i\n",
    "    i += 1\n",
    "    \n",
    "print(tot)"
   ]
  },
  {
   "cell_type": "markdown",
   "id": "emotional-luther",
   "metadata": {},
   "source": [
    "### [응용] 한자리 씩 출력하기\n",
    "\n",
    "> 사용자로부터 숫자 입력 받은 양의 정수의 각 자리 수를 1의 자리부터 차례대로 출력하는 코드를 작성해보세요.\n",
    "\n",
    "\n",
    "---\n",
    "**[입력 예시]**\n",
    "\n",
    "185\n",
    "\n",
    "**[출력 예시]**\n",
    "\n",
    "5\n",
    "\n",
    "8\n",
    "\n",
    "1"
   ]
  },
  {
   "cell_type": "code",
   "execution_count": 16,
   "id": "russian-joint",
   "metadata": {
    "scrolled": false
   },
   "outputs": [
    {
     "name": "stdout",
     "output_type": "stream",
     "text": [
      "양의 정수를 내놔라 1834\n"
     ]
    }
   ],
   "source": [
    "num = input('양의 정수를 내놔라 ')"
   ]
  },
  {
   "cell_type": "code",
   "execution_count": 19,
   "id": "medieval-couple",
   "metadata": {
    "scrolled": true
   },
   "outputs": [
    {
     "name": "stdout",
     "output_type": "stream",
     "text": [
      "4\n",
      "3\n",
      "8\n",
      "1\n"
     ]
    }
   ],
   "source": [
    "for i in reversed(num):  #n[::-1]\n",
    "    print(i)"
   ]
  },
  {
   "cell_type": "code",
   "execution_count": 1,
   "id": "trying-object",
   "metadata": {
    "scrolled": false
   },
   "outputs": [
    {
     "name": "stdout",
     "output_type": "stream",
     "text": [
      "양의 정수를 내놔라 83485\n"
     ]
    }
   ],
   "source": [
    "num = int(input('양의 정수를 내놔라 '))"
   ]
  },
  {
   "cell_type": "code",
   "execution_count": 2,
   "id": "consistent-logistics",
   "metadata": {},
   "outputs": [
    {
     "name": "stdout",
     "output_type": "stream",
     "text": [
      "5\n",
      "8\n",
      "4\n",
      "3\n",
      "8\n"
     ]
    }
   ],
   "source": [
    "# while로 어떻게 풀지..?\n",
    "i = 1\n",
    "while num > 0:\n",
    "    print(num % 10 ** i)\n",
    "    num = num // 10 ** i  "
   ]
  },
  {
   "cell_type": "code",
   "execution_count": null,
   "id": "detected-brunei",
   "metadata": {},
   "outputs": [],
   "source": [
    "n = int(input())\n",
    "\n",
    "while n > 0 :\n",
    "    print(n % 10) # 10으로 나눈 나머지 출력\n",
    "    n = n // 10 # 몫으로 덮어쓰기"
   ]
  },
  {
   "cell_type": "markdown",
   "id": "surrounded-nothing",
   "metadata": {},
   "source": [
    "true_value if <조건식> else false_value"
   ]
  },
  {
   "cell_type": "code",
   "execution_count": 9,
   "id": "challenging-formation",
   "metadata": {},
   "outputs": [
    {
     "name": "stdout",
     "output_type": "stream",
     "text": [
      "0\n"
     ]
    }
   ],
   "source": [
    "n = 10\n",
    "if n > 11:\n",
    "    result = n\n",
    "else:\n",
    "    result = 0\n",
    "\n",
    "print(result)"
   ]
  },
  {
   "cell_type": "code",
   "execution_count": null,
   "id": "micro-sphere",
   "metadata": {},
   "outputs": [],
   "source": [
    "result = n if n >11 else 0\n",
    "print(result)"
   ]
  },
  {
   "cell_type": "markdown",
   "id": "expensive-virtue",
   "metadata": {},
   "source": [
    "## enumertate"
   ]
  },
  {
   "cell_type": "code",
   "execution_count": 2,
   "id": "unnecessary-price",
   "metadata": {},
   "outputs": [
    {
     "name": "stdout",
     "output_type": "stream",
     "text": [
      "1 9시\n",
      "2 8시 50분\n",
      "3 8시 40분\n",
      "4 8시 56분\n"
     ]
    }
   ],
   "source": [
    "hour = ['9시', '8시 50분', '8시 40분', '8시 56분']\n",
    "for idx, time in enumerate(hour, start = 1):\n",
    "    print(idx, time)"
   ]
  },
  {
   "cell_type": "code",
   "execution_count": 7,
   "id": "enclosed-hampton",
   "metadata": {},
   "outputs": [
    {
     "name": "stdout",
     "output_type": "stream",
     "text": [
      "<class 'tuple'>\n"
     ]
    }
   ],
   "source": [
    "x = list(enumerate(hour, start = 1))\n",
    "print(type(x[0]))"
   ]
  },
  {
   "cell_type": "markdown",
   "id": "textile-wonder",
   "metadata": {},
   "source": [
    "## break"
   ]
  },
  {
   "cell_type": "markdown",
   "id": "prepared-harbor",
   "metadata": {},
   "source": [
    "for문에도 활용가능"
   ]
  },
  {
   "cell_type": "code",
   "execution_count": 15,
   "id": "prostate-project",
   "metadata": {},
   "outputs": [
    {
     "name": "stdout",
     "output_type": "stream",
     "text": [
      "아침\n",
      "먹고\n",
      "땡\n",
      "삑 아직 아침 먹는 중\n"
     ]
    }
   ],
   "source": [
    "list = ['아침', '먹고', '땡', '점심', '먹고', '땡']\n",
    "for i in list:\n",
    "    # print(i)   # print의 위치에 따른 결과값차이!\n",
    "    if i == '점심':\n",
    "        print('삑 아직 아침 먹는 중')\n",
    "        break\n",
    "    print(i)"
   ]
  },
  {
   "cell_type": "markdown",
   "id": "hybrid-colombia",
   "metadata": {},
   "source": [
    "## continue"
   ]
  },
  {
   "cell_type": "markdown",
   "id": "artistic-sample",
   "metadata": {},
   "source": [
    "무시하고 싶은 거에 쓰면 되지 않을까?"
   ]
  },
  {
   "cell_type": "code",
   "execution_count": 17,
   "id": "spectacular-allergy",
   "metadata": {},
   "outputs": [
    {
     "name": "stdout",
     "output_type": "stream",
     "text": [
      "제육볶음는 다 내꺼야\n",
      "소불고기는 다 내꺼야\n",
      "갈비탕는 다 내꺼야\n"
     ]
    }
   ],
   "source": [
    "lunch = ['제육볶음', '소불고기', '야채볶음', '갈비탕', '야채가득쌈밤']\n",
    "for i in lunch:\n",
    "    if i[0:2] == '야채':\n",
    "        continue\n",
    "    print(f'{i}는 다 내꺼야')"
   ]
  },
  {
   "cell_type": "markdown",
   "id": "second-stock",
   "metadata": {},
   "source": [
    "## else"
   ]
  },
  {
   "cell_type": "markdown",
   "id": "compact-emperor",
   "metadata": {},
   "source": [
    "반복문이 다 끝났을 때 실행\n",
    "\n",
    "if 없이도 사용가능\n",
    "\n",
    "break문으로 중간에 종료되는 경우 else 실행 안 됨!!"
   ]
  },
  {
   "cell_type": "code",
   "execution_count": 25,
   "id": "accomplished-mercy",
   "metadata": {},
   "outputs": [
    {
     "name": "stdout",
     "output_type": "stream",
     "text": [
      "숫자를 아무거나 입력해봐! 10\n",
      "0\n",
      "1\n",
      "2\n",
      "3\n",
      "4\n",
      "5\n",
      "6\n",
      "여기까지 오면 무사히 break문을 피한 거라구!\n"
     ]
    }
   ],
   "source": [
    "m = int(input('숫자를 아무거나 입력해봐! '))\n",
    "for i in range(7):\n",
    "    print(i)\n",
    "    if i == m:\n",
    "        break\n",
    "else:\n",
    "    print('여기까지 오면 무사히 break문을 피한 거라구!')"
   ]
  },
  {
   "cell_type": "markdown",
   "id": "scheduled-wallace",
   "metadata": {},
   "source": [
    "## pass continue"
   ]
  },
  {
   "cell_type": "markdown",
   "id": "extreme-engineering",
   "metadata": {},
   "source": [
    "pass는 에러코드를 피하기 위해 잠시 자리만 차지해둠. => 역할 없음\n",
    "\n",
    "continue는 해당 코드를 실행하지 않음"
   ]
  },
  {
   "cell_type": "code",
   "execution_count": 28,
   "id": "periodic-armstrong",
   "metadata": {},
   "outputs": [
    {
     "name": "stdout",
     "output_type": "stream",
     "text": [
      "0\n",
      "1\n",
      "2\n",
      "3\n",
      "4\n",
      "5\n",
      "6\n",
      "7\n",
      "8\n"
     ]
    }
   ],
   "source": [
    "for i in range(9):\n",
    "    if i >= 5:\n",
    "        pass\n",
    "    print(i)"
   ]
  },
  {
   "cell_type": "code",
   "execution_count": 29,
   "id": "specialized-pastor",
   "metadata": {},
   "outputs": [
    {
     "name": "stdout",
     "output_type": "stream",
     "text": [
      "0\n",
      "1\n",
      "2\n",
      "3\n",
      "4\n"
     ]
    }
   ],
   "source": [
    "for i in range(9):\n",
    "    if i >= 5:\n",
    "        continue\n",
    "    print(i)"
   ]
  },
  {
   "cell_type": "code",
   "execution_count": null,
   "id": "widespread-tulsa",
   "metadata": {},
   "outputs": [],
   "source": []
  }
 ],
 "metadata": {
  "kernelspec": {
   "display_name": "Python 3",
   "language": "python",
   "name": "python3"
  },
  "language_info": {
   "codemirror_mode": {
    "name": "ipython",
    "version": 3
   },
   "file_extension": ".py",
   "mimetype": "text/x-python",
   "name": "python",
   "nbconvert_exporter": "python",
   "pygments_lexer": "ipython3",
   "version": "3.8.7"
  },
  "toc": {
   "base_numbering": 1,
   "nav_menu": {},
   "number_sections": true,
   "sideBar": true,
   "skip_h1_title": false,
   "title_cell": "Table of Contents",
   "title_sidebar": "Contents",
   "toc_cell": false,
   "toc_position": {},
   "toc_section_display": true,
   "toc_window_display": false
  }
 },
 "nbformat": 4,
 "nbformat_minor": 5
}

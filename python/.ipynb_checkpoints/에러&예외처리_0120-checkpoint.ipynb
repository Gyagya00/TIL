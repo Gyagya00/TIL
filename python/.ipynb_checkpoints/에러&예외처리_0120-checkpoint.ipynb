{
 "cells": [
  {
   "cell_type": "markdown",
   "id": "painful-webcam",
   "metadata": {},
   "source": [
    "# 에러\n",
    "\n",
    "## 문법 에러 (Syntax Error)"
   ]
  },
  {
   "cell_type": "markdown",
   "id": "chubby-medicine",
   "metadata": {},
   "source": [
    "## 예외 (Exception)\n",
    "\n",
    "* ZeroDivisionError\n",
    "* NameError : 정의되지 않은 `변수` 호출\n",
    "* TypeError : `데이터타입`이 잘못되었을 때\n",
    "* ValueError : `값`이 올바르지 않을 때, 존재하지 않는 값을 찾을 때\n",
    "* IndexError : 존재하지 않는 `인덱스`\n",
    "* KeyError : 딕셔너리 `키`가 없음\n",
    "* ModuleNotFoundError :  모듈을 못 찾음 `import reques`\n",
    "* ImportError : 모듈 내에 존재하지 않는 함수 호출 `from random import sampl`\n",
    "* KeyboardInterrupt : 내가 직접 종료했을 때"
   ]
  },
  {
   "cell_type": "markdown",
   "id": "complicated-professional",
   "metadata": {},
   "source": [
    "# 예외처리\n",
    "\n",
    "\n",
    "## try & except\n",
    "\n",
    "* `try` 아래의 코드블락(code block)이 실행된다. \n",
    "\n",
    "* 예외가 발생되지 않으면, **`except`없이 실행이 종료 된다.**\n",
    "\n",
    "* 예외가 발생하면, **남은 부분을 수행하지 않고**, `except`가 실행된다.\n",
    "\n",
    "* `except` 여러 개 사용가능\n",
    "\n"
   ]
  },
  {
   "cell_type": "code",
   "execution_count": 4,
   "id": "convertible-tournament",
   "metadata": {},
   "outputs": [
    {
     "name": "stdout",
     "output_type": "stream",
     "text": [
      "값을 입력하시오 : y\n",
      "숫자를 입력하라니까!!\n"
     ]
    }
   ],
   "source": [
    "try: \n",
    "    num = input('값을 입력하시오 : ')\n",
    "    print(int(num))\n",
    "except ValueError:\n",
    "    print('숫자를 입력하라니까!!')"
   ]
  },
  {
   "cell_type": "markdown",
   "id": "mature-fabric",
   "metadata": {},
   "source": [
    "### else => 에러 발생 안할 시에만\n",
    "\n",
    "```python\n",
    "try:\n",
    "    <코드 블럭 1>\n",
    "except 예외 as error:\n",
    "    <코드 블럭 2>\n",
    "else:\n",
    "    <코드 블럭 3>\n",
    "```\n",
    "\n",
    "* 에러가 발생하지 않는 경우 수행되는 문장은 `else`를 이용한다.\n",
    "\n",
    "* 모든 except 절 뒤에와야 한다.\n",
    "\n",
    "* try 절이 예외를 일으키지 않을 때 실행되어야만 하는 코드에 적절하다.\n"
   ]
  },
  {
   "cell_type": "code",
   "execution_count": 7,
   "id": "convenient-michael",
   "metadata": {},
   "outputs": [
    {
     "name": "stdout",
     "output_type": "stream",
     "text": [
      "성적 파일을 읽어옵니다.\n",
      "성적 파일을 종료합니다.\n"
     ]
    }
   ],
   "source": [
    "try:\n",
    "    print('성적 파일을 읽어옵니다.')\n",
    "    data = {'python': 'A+'}\n",
    "    data['python'] # 'java' 입력시 else 안 나옴\n",
    "except KeyError as err:\n",
    "    print(f'{err}는 딕셔너리에 없는 키입니다.')\n",
    "else:\n",
    "    print('성적 파일을 종료합니다.')"
   ]
  },
  {
   "cell_type": "markdown",
   "id": "instructional-earthquake",
   "metadata": {},
   "source": [
    "### finally => 항상\n",
    "\n",
    "```python\n",
    "try:\n",
    "    <코드 블럭 1>\n",
    "except 예외 as error:\n",
    "    <코드 블럭 2>\n",
    "finally:\n",
    "    <코드 블럭 3>\n",
    "```\n",
    "\n",
    "* 반드시 수행해야하는 문장은 `finally`를 활용한다.\n",
    "\n",
    "* 즉, 모든 상황에 실행되어야만 하는 코드를 정의하는데 활용한다.\n",
    "\n",
    "* 예외의 발생 여부과 관계없이 try 문을 떠날 때 항상 실행한다.\n"
   ]
  },
  {
   "cell_type": "code",
   "execution_count": 5,
   "id": "recorded-bargain",
   "metadata": {},
   "outputs": [
    {
     "name": "stdout",
     "output_type": "stream",
     "text": [
      "성적 파일을 읽어옵니다.\n",
      "'java'는 딕셔너리에 없는 키입니다.\n",
      "성적 파일을 종료합니다.\n"
     ]
    }
   ],
   "source": [
    "try:\n",
    "    print('성적 파일을 읽어옵니다.')\n",
    "    data = {'python': 'A+'}\n",
    "    data['java']\n",
    "except KeyError as err:\n",
    "    print(f'{err}는 딕셔너리에 없는 키입니다.')\n",
    "finally:\n",
    "    print('성적 파일을 종료합니다.')"
   ]
  },
  {
   "cell_type": "markdown",
   "id": "severe-active",
   "metadata": {},
   "source": [
    "## 예외 발생 시키기(Exception Raising)\n",
    "\n",
    "### `raise`\n",
    "* `raise`를 통해 예외를 강제로 발생시킬 수 있습니다.\n",
    "\n",
    "\n",
    "```python\n",
    "raise <에러>('메시지')\n",
    "```\n"
   ]
  },
  {
   "cell_type": "code",
   "execution_count": 2,
   "id": "significant-deployment",
   "metadata": {},
   "outputs": [
    {
     "ename": "NameError",
     "evalue": "틀렸다 이자식아",
     "output_type": "error",
     "traceback": [
      "\u001b[1;31m---------------------------------------------------------------------------\u001b[0m",
      "\u001b[1;31mNameError\u001b[0m                                 Traceback (most recent call last)",
      "\u001b[1;32m<ipython-input-2-13c7ef472632>\u001b[0m in \u001b[0;36m<module>\u001b[1;34m\u001b[0m\n\u001b[1;32m----> 1\u001b[1;33m \u001b[1;32mraise\u001b[0m \u001b[0mNameError\u001b[0m\u001b[1;33m(\u001b[0m\u001b[1;34m'틀렸다 이자식아'\u001b[0m\u001b[1;33m)\u001b[0m\u001b[1;33m\u001b[0m\u001b[1;33m\u001b[0m\u001b[0m\n\u001b[0m",
      "\u001b[1;31mNameError\u001b[0m: 틀렸다 이자식아"
     ]
    }
   ],
   "source": [
    "raise NameError('틀렸다 이자식아')"
   ]
  },
  {
   "cell_type": "markdown",
   "id": "occupied-perry",
   "metadata": {},
   "source": [
    "### `assert`\n",
    "\n",
    "`assert` 문은 예외를 발생시키는 다른 방법입니다. \n",
    "\n",
    "보통 **상태를 검증하는데 사용**되며 무조건 `AssertionError`가 발생합니다."
   ]
  },
  {
   "cell_type": "code",
   "execution_count": 3,
   "id": "statutory-omega",
   "metadata": {},
   "outputs": [
    {
     "ename": "SyntaxError",
     "evalue": "invalid syntax (<ipython-input-3-cffdd28a1756>, line 1)",
     "output_type": "error",
     "traceback": [
      "\u001b[1;36m  File \u001b[1;32m\"<ipython-input-3-cffdd28a1756>\"\u001b[1;36m, line \u001b[1;32m1\u001b[0m\n\u001b[1;33m    assert Boolean expression, error message\u001b[0m\n\u001b[1;37m                   ^\u001b[0m\n\u001b[1;31mSyntaxError\u001b[0m\u001b[1;31m:\u001b[0m invalid syntax\n"
     ]
    }
   ],
   "source": [
    "assert Boolean expression, error message\n",
    "\n",
    "assert len([1, 2]) == 1, '길이가 1이 아닙니다.'"
   ]
  }
 ],
 "metadata": {
  "kernelspec": {
   "display_name": "Python 3",
   "language": "python",
   "name": "python3"
  },
  "language_info": {
   "codemirror_mode": {
    "name": "ipython",
    "version": 3
   },
   "file_extension": ".py",
   "mimetype": "text/x-python",
   "name": "python",
   "nbconvert_exporter": "python",
   "pygments_lexer": "ipython3",
   "version": "3.8.7"
  },
  "toc": {
   "base_numbering": 1,
   "nav_menu": {},
   "number_sections": true,
   "sideBar": true,
   "skip_h1_title": false,
   "title_cell": "Table of Contents",
   "title_sidebar": "Contents",
   "toc_cell": false,
   "toc_position": {},
   "toc_section_display": true,
   "toc_window_display": false
  }
 },
 "nbformat": 4,
 "nbformat_minor": 5
}

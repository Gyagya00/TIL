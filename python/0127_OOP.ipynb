{
 "cells": [
  {
   "cell_type": "markdown",
   "id": "played-election",
   "metadata": {},
   "source": [
    "# 객체(Object)\n",
    "\n",
    "모든 객체는 **타입(type), 속성(attribute), 조작법(method)를 가진다.\n",
    "\n",
    "```\n",
    "\n",
    "타입(type): 어떤 연산자(operator)와 조작(method)이 가능한가?\n",
    "속성(attribute): 어떤 상태(데이터)를 가지는가?\n",
    "조작법(method): 어떤 행위(함수)를 할 수 있는가?\n",
    "\n",
    "```"
   ]
  },
  {
   "cell_type": "code",
   "execution_count": null,
   "id": "random-approach",
   "metadata": {},
   "outputs": [],
   "source": [
    "```\n",
    " class student:\n",
    "        print('어쩌구 저꺼구')\n",
    "```\n",
    "\n",
    "```\n",
    "gaeun = student()\n",
    "gaeun.student()\n",
    "\n",
    "```"
   ]
  }
 ],
 "metadata": {
  "kernelspec": {
   "display_name": "Python 3",
   "language": "python",
   "name": "python3"
  },
  "language_info": {
   "codemirror_mode": {
    "name": "ipython",
    "version": 3
   },
   "file_extension": ".py",
   "mimetype": "text/x-python",
   "name": "python",
   "nbconvert_exporter": "python",
   "pygments_lexer": "ipython3",
   "version": "3.8.7"
  },
  "toc": {
   "base_numbering": 1,
   "nav_menu": {},
   "number_sections": true,
   "sideBar": true,
   "skip_h1_title": false,
   "title_cell": "Table of Contents",
   "title_sidebar": "Contents",
   "toc_cell": false,
   "toc_position": {},
   "toc_section_display": true,
   "toc_window_display": false
  }
 },
 "nbformat": 4,
 "nbformat_minor": 5
}

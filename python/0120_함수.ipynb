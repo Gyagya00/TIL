{
 "cells": [
  {
   "cell_type": "markdown",
   "id": "fourth-danger",
   "metadata": {},
   "source": [
    "# 함수의 return"
   ]
  },
  {
   "cell_type": "markdown",
   "id": "adverse-waste",
   "metadata": {},
   "source": [
    "* `한 개의 객체`만 반환 => 하나의 `Tuple`"
   ]
  },
  {
   "cell_type": "code",
   "execution_count": 4,
   "id": "patient-abraham",
   "metadata": {},
   "outputs": [],
   "source": [
    "def name(name):\n",
    "    return '내 이름은', name, '거꾸로 해도', name"
   ]
  },
  {
   "cell_type": "code",
   "execution_count": 5,
   "id": "recreational-edgar",
   "metadata": {
    "scrolled": true
   },
   "outputs": [
    {
     "data": {
      "text/plain": [
       "('내 이름은', '이효리', '거꾸로 해도', '이효리')"
      ]
     },
     "execution_count": 5,
     "metadata": {},
     "output_type": "execute_result"
    }
   ],
   "source": [
    "name('이효리')"
   ]
  },
  {
   "cell_type": "markdown",
   "id": "tracked-owner",
   "metadata": {},
   "source": [
    "## print vs return"
   ]
  },
  {
   "cell_type": "markdown",
   "id": "advised-virginia",
   "metadata": {},
   "source": [
    "print 는 보여주기 위함\n",
    "\n",
    "return 은 `함수`의 결과물을 돌려주기 위해 사용 \n",
    "\n",
    "=> print는 변수에 저장ㄴㄴ  /  return 은 저장ㅇㅇ"
   ]
  },
  {
   "cell_type": "markdown",
   "id": "cross-sending",
   "metadata": {},
   "source": [
    "* 아무것도 return 하지 않으면 함수에 `None`이 return된다"
   ]
  },
  {
   "cell_type": "code",
   "execution_count": 22,
   "id": "inside-variety",
   "metadata": {},
   "outputs": [
    {
     "name": "stdout",
     "output_type": "stream",
     "text": [
      "무엇이 return될까?\n",
      "None이 return 되지.\n"
     ]
    }
   ],
   "source": [
    "def ret(what):\n",
    "    print('무엇이 return될까?')\n",
    "    # return what\n",
    "\n",
    "whats_in_my_return = ret('내가 리턴에 쓴 것')\n",
    "print(f'{whats_in_my_return}이 return 되지.')"
   ]
  },
  {
   "cell_type": "markdown",
   "id": "material-stewart",
   "metadata": {},
   "source": [
    "# 함수의 입력(Input)"
   ]
  },
  {
   "cell_type": "markdown",
   "id": "yellow-spirituality",
   "metadata": {},
   "source": [
    "## 매개변수(parameter) & 인자(argument)"
   ]
  },
  {
   "cell_type": "code",
   "execution_count": 23,
   "id": "played-delhi",
   "metadata": {},
   "outputs": [],
   "source": [
    "def name(name):  # 요기서 name이 paremeter\n",
    "    return '내 이름은', name, '거꾸로 해도', name"
   ]
  },
  {
   "cell_type": "code",
   "execution_count": 24,
   "id": "significant-ordinance",
   "metadata": {
    "scrolled": true
   },
   "outputs": [
    {
     "data": {
      "text/plain": [
       "('내 이름은', '이효리', '거꾸로 해도', '이효리')"
      ]
     },
     "execution_count": 24,
     "metadata": {},
     "output_type": "execute_result"
    }
   ],
   "source": [
    "name('이효리') # 요기 '이효리'가 argument"
   ]
  },
  {
   "cell_type": "markdown",
   "id": "sought-passing",
   "metadata": {},
   "source": [
    "## 함수의 인자"
   ]
  },
  {
   "cell_type": "markdown",
   "id": "threatened-quality",
   "metadata": {},
   "source": [
    "| 위치인자 | 기본인자 | 키워드인자 | 가변인자 | 가변키워드인자 |\n",
    "| :------- | ----------|-----------|----------|-------- |\n",
    "|def f(a, b)|def f(a, b = 0)|def f(a, b)|def f(*args)|def f(**kwargs)|\n",
    "|f(1, 2)|f(1)|f(b = 2, a = 1)|\n",
    "||def f(a = 0, b) 불가|f(b = 2, 1) 불가 f(1, b = 2) 가능|f(1, 2, 3,...)|f('이름' = '이효리', '나이' = 22, '사는 곳' = '제주')|\n",
    "||||Tuple|DIctionary\n"
   ]
  },
  {
   "cell_type": "markdown",
   "id": "powered-economics",
   "metadata": {},
   "source": [
    "* 기본인자"
   ]
  },
  {
   "cell_type": "code",
   "execution_count": 28,
   "id": "difficult-catering",
   "metadata": {},
   "outputs": [
    {
     "name": "stdout",
     "output_type": "stream",
     "text": [
      "안녕 난 익명쓰, 100살인디\n",
      "안녕 난 단군쓰, 10000살인디\n"
     ]
    }
   ],
   "source": [
    "def greeting(age, name = '익명'):\n",
    "    print(f'안녕 난 {name}쓰, {age}살인디')\n",
    "greeting(100)\n",
    "greeting(10000, '단군')"
   ]
  },
  {
   "cell_type": "markdown",
   "id": "extended-drill",
   "metadata": {},
   "source": [
    "* 가변인자 (*args)\n",
    "\n",
    "튜플\n",
    "\n",
    "students(*args, prof) \n",
    "\n",
    "students(prof, *args)"
   ]
  },
  {
   "cell_type": "code",
   "execution_count": 35,
   "id": "polish-memorial",
   "metadata": {},
   "outputs": [
    {
     "name": "stdout",
     "output_type": "stream",
     "text": [
      "('가은', '나은', '다은')\n",
      "<class 'tuple'>\n"
     ]
    }
   ],
   "source": [
    "# 튜플이다\n",
    "def f(*name):\n",
    "    print(name)\n",
    "    print(type(name))\n",
    "        \n",
    "f('가은', '나은', '다은')"
   ]
  },
  {
   "cell_type": "code",
   "execution_count": 33,
   "id": "fundamental-ghost",
   "metadata": {},
   "outputs": [
    {
     "name": "stdout",
     "output_type": "stream",
     "text": [
      "희은\n",
      "태영\n",
      "존경하는 교수님 탁희\n"
     ]
    }
   ],
   "source": [
    "# students(*args, prof) 가변인자 다음 인수는 키워드 인자로 입력\n",
    "def students(*args, prof): \n",
    "    for student in args:\n",
    "        print(student)\n",
    "    print(f'존경하는 교수님 {prof}')\n",
    "    \n",
    "students('희은', '태영', prof ='탁희')"
   ]
  },
  {
   "cell_type": "code",
   "execution_count": 34,
   "id": "incorrect-transformation",
   "metadata": {},
   "outputs": [
    {
     "name": "stdout",
     "output_type": "stream",
     "text": [
      "태영\n",
      "탁희\n",
      "존경하는 교수님 희은\n"
     ]
    }
   ],
   "source": [
    "# students(prof, *args) 자동으로 첫 인자를 prof로 배정\n",
    "def students(prof, *args):\n",
    "    for student in args:\n",
    "        print(student)\n",
    "    print(f'존경하는 교수님 {prof}')\n",
    "    \n",
    "students('희은', '태영', '탁희')"
   ]
  },
  {
   "cell_type": "markdown",
   "id": "optical-numbers",
   "metadata": {},
   "source": [
    "* 가변키워드인자 (**kwargs)\n",
    "\n",
    "딕셔너리"
   ]
  },
  {
   "cell_type": "code",
   "execution_count": 36,
   "id": "about-glasgow",
   "metadata": {},
   "outputs": [
    {
     "name": "stdout",
     "output_type": "stream",
     "text": [
      "{'한국어': '안녕', '영어': 'hi', '독일어': 'Guten Tag'}\n",
      "<class 'dict'>\n"
     ]
    },
    {
     "data": {
      "text/plain": [
       "{'한국어': '안녕', '영어': 'hi', '독일어': 'Guten Tag'}"
      ]
     },
     "execution_count": 36,
     "metadata": {},
     "output_type": "execute_result"
    }
   ],
   "source": [
    "def my_dict(**kwargs):\n",
    "    print(kwargs)\n",
    "    print(type(kwargs))\n",
    "    return kwargs\n",
    "\n",
    "my_dict(한국어='안녕', 영어='hi', 독일어='Guten Tag')"
   ]
  },
  {
   "cell_type": "markdown",
   "id": "wooden-black",
   "metadata": {},
   "source": [
    "----"
   ]
  },
  {
   "cell_type": "markdown",
   "id": "nutritional-distance",
   "metadata": {},
   "source": [
    "# 함수와 스코프\n",
    "\n",
    "## 이름 검색 규칙\n",
    "\n",
    "`LEGB` 순서대로\n",
    "* Local scope\n",
    "* Enclosed scope\n",
    "* Global scope\n",
    "* Built-in scope"
   ]
  },
  {
   "cell_type": "code",
   "execution_count": 11,
   "id": "exceptional-senior",
   "metadata": {
    "scrolled": true
   },
   "outputs": [
    {
     "name": "stdout",
     "output_type": "stream",
     "text": [
      "hi\n"
     ]
    }
   ],
   "source": [
    "print('hi') # 빌트인(B) 출력함수 \n",
    "print = 6 # 글로벌스코프(G) 에 print를 변수로 지정"
   ]
  },
  {
   "cell_type": "code",
   "execution_count": 12,
   "id": "pending-signal",
   "metadata": {},
   "outputs": [
    {
     "ename": "TypeError",
     "evalue": "'int' object is not callable",
     "output_type": "error",
     "traceback": [
      "\u001b[1;31m---------------------------------------------------------------------------\u001b[0m",
      "\u001b[1;31mTypeError\u001b[0m                                 Traceback (most recent call last)",
      "\u001b[1;32m<ipython-input-12-b9ff25ad25d2>\u001b[0m in \u001b[0;36m<module>\u001b[1;34m\u001b[0m\n\u001b[1;32m----> 1\u001b[1;33m \u001b[0mprint\u001b[0m\u001b[1;33m(\u001b[0m\u001b[1;34m'hi'\u001b[0m\u001b[1;33m)\u001b[0m \u001b[1;31m#LEGB 순서에서 Bulitin까지 가기 전 Global에서 먼저 찾아짐\u001b[0m\u001b[1;33m\u001b[0m\u001b[1;33m\u001b[0m\u001b[0m\n\u001b[0m",
      "\u001b[1;31mTypeError\u001b[0m: 'int' object is not callable"
     ]
    }
   ],
   "source": [
    "print('hi') #LEGB 순서에서 Bulitin까지 가기 전 Global에서 먼저 찾아짐"
   ]
  },
  {
   "cell_type": "code",
   "execution_count": 13,
   "id": "blond-collect",
   "metadata": {},
   "outputs": [],
   "source": [
    "del print #글로벌 스코프에 정의된 이름을 지워버리기"
   ]
  },
  {
   "cell_type": "code",
   "execution_count": 7,
   "id": "fresh-mirror",
   "metadata": {},
   "outputs": [
    {
     "name": "stdout",
     "output_type": "stream",
     "text": [
      "30 20 40\n",
      "50 20\n"
     ]
    }
   ],
   "source": [
    "# LEGB 순서알기\n",
    "\n",
    "a = 10 # G\n",
    "b = 20 # G\n",
    "def enclosed():\n",
    "    a = 30 # local 함수 입장에서는 Enclosed\n",
    "    def local(): \n",
    "        c = 40 # local\n",
    "        print(a, b, c) # a가 30\n",
    "    local()\n",
    "    a = 50 # Enclosed 함수 local, local 함수 Enclosed\n",
    "    print(a, b) # a가 10에서 50으로 바뀜\n",
    "                #But local()은 바뀌기 전에 선언돼서 그대로 10\n",
    "    \n",
    "enclosed()"
   ]
  },
  {
   "cell_type": "code",
   "execution_count": 14,
   "id": "heavy-faculty",
   "metadata": {},
   "outputs": [
    {
     "name": "stdout",
     "output_type": "stream",
     "text": [
      "5\n",
      "5\n"
     ]
    }
   ],
   "source": [
    "# 전역 변수 바꾸기 global 변수 => 변수 = 8\n",
    "\n",
    "global_num = 3\n",
    "def local_scope():\n",
    "    # 지금부터 이야기하는 거 서울 5반 지민이 말고 방탄 지민이.\n",
    "    global global_num\n",
    "    global_num = 5\n",
    "    print(global_num)\n",
    "    \n",
    "local_scope()\n",
    "print(global_num)"
   ]
  },
  {
   "cell_type": "markdown",
   "id": "organized-roots",
   "metadata": {},
   "source": [
    "# 재귀함수\n",
    "\n",
    "함수 내에서 자기자신을 호출하는 함수\n",
    "\n",
    "* base case\n",
    "\n",
    "* 반복문보다 변수사용이 적다. 반복문보다 오래 걸린다."
   ]
  },
  {
   "cell_type": "code",
   "execution_count": 16,
   "id": "ruled-psychiatry",
   "metadata": {},
   "outputs": [],
   "source": [
    "def factorial(n):\n",
    "    if n == 1: # base case를 꼭 작성해줘야 함(while 문에서 종료문을 작성하듯)\n",
    "        return 1\n",
    "    else:\n",
    "        return n * factorial(n-1) # 뿅 내가 정의한 함수가 또 나왔네 그래서 재귀함수"
   ]
  }
 ],
 "metadata": {
  "kernelspec": {
   "display_name": "Python 3",
   "language": "python",
   "name": "python3"
  },
  "language_info": {
   "codemirror_mode": {
    "name": "ipython",
    "version": 3
   },
   "file_extension": ".py",
   "mimetype": "text/x-python",
   "name": "python",
   "nbconvert_exporter": "python",
   "pygments_lexer": "ipython3",
   "version": "3.8.7"
  },
  "toc": {
   "base_numbering": 1,
   "nav_menu": {},
   "number_sections": true,
   "sideBar": true,
   "skip_h1_title": false,
   "title_cell": "Table of Contents",
   "title_sidebar": "Contents",
   "toc_cell": false,
   "toc_position": {},
   "toc_section_display": true,
   "toc_window_display": false
  }
 },
 "nbformat": 4,
 "nbformat_minor": 5
}
